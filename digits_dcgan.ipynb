{
 "cells": [
  {
   "cell_type": "code",
   "execution_count": null,
   "metadata": {
    "id": "KtMEr0wNjvcM"
   },
   "outputs": [],
   "source": [
    "import numpy as np\n",
    "from keras import Sequential\n",
    "from keras.datasets.mnist import load_data\n",
    "from keras.layers import Conv2D, LeakyReLU, Dropout, Flatten, Dense, Reshape, Conv2DTranspose\n",
    "from keras.optimizers import Adam\n",
    "from matplotlib import pyplot\n",
    "from numpy import zeros, ones, vstack, expand_dims\n",
    "from numpy.random import randn, randint\n",
    "import os\n",
    "import tensorflow as tf"
   ]
  },
  {
   "cell_type": "code",
   "execution_count": null,
   "metadata": {
    "pycharm": {
     "name": "#%%\n"
    },
    "id": "2EnLrsYhjvcP"
   },
   "outputs": [],
   "source": [
    "def load_real_samples():\n",
    "    (trainX, _), (_, _) = load_data()\n",
    "    X = expand_dims(trainX, axis=-1)\n",
    "    X = X.astype(('float32'))\n",
    "    X = X / 255.0\n",
    "    return X\n",
    "trainX = load_real_samples()"
   ]
  },
  {
   "cell_type": "code",
   "source": [
    "os.getcwd()\n",
    "if not os.path.isdir(\"saved/\"):\n",
    "    os.makedirs(\"saved/\")"
   ],
   "metadata": {
    "id": "XsuNS0BdkHzE"
   },
   "execution_count": null,
   "outputs": []
  },
  {
   "cell_type": "code",
   "source": [
    "physical_devices = tf.config.experimental.list_physical_devices('GPU')\n",
    "print(\"Num GPUs Available: \", len(physical_devices))\n",
    "tf.config.experimental.set_memory_growth(physical_devices[0], True)"
   ],
   "metadata": {
    "id": "pBdZ_jsRkjgy"
   },
   "execution_count": null,
   "outputs": []
  },
  {
   "cell_type": "code",
   "execution_count": null,
   "metadata": {
    "pycharm": {
     "name": "#%%\n"
    },
    "id": "OEF7kHGAjvcQ"
   },
   "outputs": [],
   "source": [
    "for i in range(10):\n",
    "    pyplot.subplot(1, 10, 1 + i)\n",
    "    pyplot.axis('off')\n",
    "    pyplot.imshow(trainX[i, :, :, 0], cmap='gray_r')\n",
    "pyplot.savefig(\"saved/digits_example.png\", bbox_inches='tight')\n",
    "pyplot.close()"
   ]
  },
  {
   "cell_type": "code",
   "execution_count": null,
   "metadata": {
    "pycharm": {
     "name": "#%%\n"
    },
    "id": "dwLECnWijvcR"
   },
   "outputs": [],
   "source": [
    "def define_disc(in_shape=(28,28,1)):\n",
    "    model = Sequential()\n",
    "    model.add(Conv2D(64, (3,3), strides=(2,2), padding='same', input_shape=in_shape))\n",
    "    model.add(LeakyReLU(alpha=0.2))\n",
    "    model.add(Dropout(0.4))\n",
    "    model.add(Conv2D(64, (3,3), strides=(2,2), padding='same'))\n",
    "    model.add(LeakyReLU(alpha=0.2))\n",
    "    model.add(Dropout(0.4))\n",
    "    model.add(Flatten())\n",
    "    model.add(Dense(1, activation='sigmoid'))\n",
    "    model.compile(loss='binary_crossentropy', optimizer=Adam(learning_rate=0.0002, beta_1=0.5), metrics=['accuracy'])\n",
    "    return model"
   ]
  },
  {
   "cell_type": "code",
   "execution_count": null,
   "metadata": {
    "pycharm": {
     "name": "#%%\n"
    },
    "id": "6Jm79ZKGjvcS"
   },
   "outputs": [],
   "source": [
    "model = define_disc()\n",
    "model.summary()"
   ]
  },
  {
   "cell_type": "code",
   "execution_count": null,
   "metadata": {
    "pycharm": {
     "name": "#%%\n"
    },
    "id": "G19kTws4jvcT"
   },
   "outputs": [],
   "source": [
    "def define_gen(latent_dim):\n",
    "    model = Sequential()\n",
    "    model.add(Dense(128*7*7, input_dim=latent_dim))\n",
    "    model.add(LeakyReLU(0.2))\n",
    "    model.add(Reshape((7,7,128)))\n",
    "    model.add(Conv2DTranspose(128, (4,4), strides=(2,2), padding='same'))\n",
    "    model.add(LeakyReLU(0.2))\n",
    "    model.add(Conv2DTranspose(128, (4,4), strides=(2,2), padding='same'))\n",
    "    model.add(LeakyReLU(0.2))\n",
    "    model.add(Conv2D(1, (7,7), activation='sigmoid', padding='same'))\n",
    "    return model"
   ]
  },
  {
   "cell_type": "code",
   "execution_count": null,
   "metadata": {
    "pycharm": {
     "name": "#%%\n"
    },
    "id": "ZkYXbitUjvcT"
   },
   "outputs": [],
   "source": [
    "gen_model = define_gen(100)\n",
    "gen_model.summary()"
   ]
  },
  {
   "cell_type": "code",
   "execution_count": null,
   "metadata": {
    "pycharm": {
     "name": "#%%\n"
    },
    "id": "nvEBLWOQjvcU"
   },
   "outputs": [],
   "source": [
    "def generate_latent_points(latent_dim, n):\n",
    "    x_input = np.random.randn(latent_dim * n)\n",
    "    x_input = x_input.reshape(n, latent_dim)\n",
    "    return x_input"
   ]
  },
  {
   "cell_type": "code",
   "execution_count": null,
   "metadata": {
    "pycharm": {
     "name": "#%%\n"
    },
    "id": "_VDOMFpljvcV"
   },
   "outputs": [],
   "source": [
    "def generate_fake_samples(g_model, latent_dim, n_samples):\n",
    "    x_input = generate_latent_points(latent_dim, n_samples)\n",
    "    X = g_model.predict(x_input)\n",
    "    y = np.zeros((n_samples, 1))\n",
    "    return X, y"
   ]
  },
  {
   "cell_type": "code",
   "execution_count": null,
   "metadata": {
    "pycharm": {
     "name": "#%%\n"
    },
    "id": "kRoD61iUjvcW"
   },
   "outputs": [],
   "source": [
    "def generate_real_samples(n_samples):\n",
    "   ix = randint(0, trainX.shape[0], n_samples)\n",
    "   X = trainX[ix]\n",
    "   y = ones((n_samples, 1))\n",
    "   return X, y\n"
   ]
  },
  {
   "cell_type": "code",
   "execution_count": null,
   "metadata": {
    "pycharm": {
     "name": "#%%\n"
    },
    "id": "DBcdlWWSjvcX"
   },
   "outputs": [],
   "source": [
    "generatedX, _ = generate_fake_samples(gen_model, 100, 25)\n",
    "for i in range(10):\n",
    "    pyplot.subplot(1, 10, 1 + i)\n",
    "    pyplot.axis('off')\n",
    "    pyplot.imshow(generatedX[i, :, :, 0], cmap='gray_r')"
   ]
  },
  {
   "cell_type": "code",
   "execution_count": null,
   "metadata": {
    "pycharm": {
     "name": "#%%\n"
    },
    "id": "YEYHU5WdjvcX"
   },
   "outputs": [],
   "source": [
    "def define_gan(generator, discriminator):\n",
    "    discriminator.trainable = False\n",
    "    model = Sequential()\n",
    "    model.add(generator)\n",
    "    model.add(discriminator)\n",
    "    model.compile(loss='binary_crossentropy', optimizer=Adam(learning_rate=0.0002, beta_1=0.5))\n",
    "    return model"
   ]
  },
  {
   "cell_type": "code",
   "execution_count": null,
   "metadata": {
    "pycharm": {
     "name": "#%%\n"
    },
    "id": "0gktg2HyjvcY"
   },
   "outputs": [],
   "source": [
    "def train_gan(g_model, d_model, gan_model, latent_dim, epochs=100, batch_size=256):\n",
    "    batch_per_epo = int(trainX.shape[0] / batch_size)\n",
    "    half_batch = int(batch_per_epo / 2)\n",
    "    acc_real_arr = []\n",
    "    acc_fake_arr = []\n",
    "    d_loss_arr = []\n",
    "    g_loss_arr = []\n",
    "\n",
    "    for i in range(epochs):\n",
    "        acc_real, acc_fake = summarize_performance(i,g_model,d_model,latent_dim)\n",
    "        acc_real_arr.append(acc_real)\n",
    "        acc_fake_arr.append(acc_fake)\n",
    "\n",
    "        for j in range(batch_per_epo):\n",
    "            realX, realy = generate_real_samples(half_batch)\n",
    "            fakeX, fakey = generate_fake_samples(g_model, 100, half_batch)\n",
    "            X, y = vstack((realX, fakeX)), vstack((realy, fakey))\n",
    "            d_loss, _ = d_model.train_on_batch(X, y)\n",
    "            X_gan = generate_latent_points(latent_dim, batch_size)\n",
    "            y_gan = ones((batch_size, 1))\n",
    "            g_loss = gan_model.train_on_batch(X_gan, y_gan)\n",
    "            if j == 0:\n",
    "              d_loss_arr.append(d_loss)\n",
    "              g_loss_arr.append(g_loss)\n",
    "              print('>%d, %d/%d, d=%.3f, g=%.3f' % (i+1, j+1, batch_per_epo, d_loss, g_loss))\n",
    "\n",
    "    return acc_real_arr, acc_fake_arr, d_loss_arr, g_loss_arr"
   ]
  },
  {
   "cell_type": "code",
   "execution_count": null,
   "metadata": {
    "pycharm": {
     "name": "#%%\n"
    },
    "id": "nGhiCJ5_jvcY"
   },
   "outputs": [],
   "source": [
    "def summarize_performance(epoch, g_model, d_model, latent_dim, n_samples=100):\n",
    "    X_real, y_real = generate_real_samples(n_samples)\n",
    "    _, acc_real = d_model.evaluate(X_real, y_real, verbose=0)\n",
    "    X_fake, y_fake = generate_fake_samples(g_model, latent_dim, n_samples)\n",
    "    _, acc_fake = d_model.evaluate(X_fake, y_fake, verbose=0)\n",
    "    print('>Accuracy real: %.0f%%, fake: %.0f%%' % (acc_real*100, acc_fake*100))\n",
    "    \n",
    "    if epoch % 20 == 0:\n",
    "      filename = 'saved/generator_model_%03d.h5' % (epoch)\n",
    "      save_plot(X_fake, epoch)\n",
    "      g_model.save(filename)\n",
    "\n",
    "    return acc_real, acc_fake"
   ]
  },
  {
   "cell_type": "code",
   "execution_count": null,
   "metadata": {
    "pycharm": {
     "name": "#%%\n"
    },
    "id": "GhVRAcADjvcZ"
   },
   "outputs": [],
   "source": [
    "def save_plot(examples, epoch):\n",
    "    for i in range(10):\n",
    "        pyplot.subplot(1, 10, 1 + i)\n",
    "        pyplot.axis('off')\n",
    "        pyplot.imshow(examples[i, :, :, 0], cmap='gray_r')\n",
    "    filename = 'saved/generated_plot_e%03d.png' % (epoch)\n",
    "    pyplot.savefig(filename, bbox_inches='tight')\n",
    "    pyplot.close()"
   ]
  },
  {
   "cell_type": "code",
   "execution_count": null,
   "metadata": {
    "pycharm": {
     "name": "#%%\n"
    },
    "id": "cuIzjDCZjvcZ"
   },
   "outputs": [],
   "source": [
    "latent_dim = 100\n",
    "d_model = define_disc()\n",
    "g_model = define_gen(latent_dim)\n",
    "gan_model = define_gan(g_model, d_model)\n",
    "metrics = train_gan(g_model, d_model, gan_model, latent_dim, epochs=200)"
   ]
  },
  {
   "cell_type": "code",
   "execution_count": null,
   "metadata": {
    "id": "FwtJQsAejvca"
   },
   "outputs": [],
   "source": [
    "pyplot.plot(metrics[0], label='accuracy real')\n",
    "pyplot.plot(metrics[1], label='accuracy fake')\n",
    "pyplot.plot([0.5 for x in range(len(metrics[0]))], label='ideal accuracy')\n",
    "pyplot.xlabel(\"Epoch\")\n",
    "pyplot.ylabel(\"Accuracy\")\n",
    "pyplot.legend()\n",
    "pyplot.savefig('saved/acc_plot')\n",
    "pyplot.close()"
   ]
  },
  {
   "cell_type": "code",
   "source": [
    "pyplot.plot(metrics[2], label='discriminator')\n",
    "pyplot.plot(metrics[3], label='generator')\n",
    "pyplot.xlabel(\"Epoch\")\n",
    "pyplot.ylabel(\"Loss\")\n",
    "pyplot.legend()\n",
    "pyplot.savefig('saved/loss_plot')\n",
    "pyplot.close()"
   ],
   "metadata": {
    "id": "OvLUZDgxubY6"
   },
   "execution_count": null,
   "outputs": []
  },
  {
   "cell_type": "code",
   "source": [
    "g_model.save('saved/generator_model_200.h5')"
   ],
   "metadata": {
    "id": "AUiso_HHS-2c"
   },
   "execution_count": null,
   "outputs": []
  },
  {
   "cell_type": "code",
   "source": [
    "generatedX, _ = generate_fake_samples(g_model, 100, 10)\n",
    "for i in range(10):\n",
    "    pyplot.subplot(1, 10, 1 + i)\n",
    "    pyplot.axis('off')\n",
    "    pyplot.imshow(generatedX[i, :, :, 0], cmap='gray_r')\n",
    "pyplot.savefig('saved/generated_plot_e200.png', bbox_inches='tight')\n",
    "pyplot.close()"
   ],
   "metadata": {
    "id": "8LKm_eufT_Th"
   },
   "execution_count": null,
   "outputs": []
  },
  {
   "cell_type": "code",
   "source": [
    "d_model.save('saved/discriminator_model_200.h5')"
   ],
   "metadata": {
    "id": "ybFct6GJUlhq"
   },
   "execution_count": null,
   "outputs": []
  }
 ],
 "metadata": {
  "kernelspec": {
   "display_name": "Python 3 (ipykernel)",
   "language": "python",
   "name": "python3"
  },
  "language_info": {
   "codemirror_mode": {
    "name": "ipython",
    "version": 3
   },
   "file_extension": ".py",
   "mimetype": "text/x-python",
   "name": "python",
   "nbconvert_exporter": "python",
   "pygments_lexer": "ipython3",
   "version": "3.8.3"
  },
  "colab": {
   "private_outputs": true,
   "provenance": []
  },
  "accelerator": "GPU",
  "gpuClass": "standard"
 },
 "nbformat": 4,
 "nbformat_minor": 0
}